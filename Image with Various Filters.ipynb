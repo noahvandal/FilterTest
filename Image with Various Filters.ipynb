{
 "cells": [
  {
   "cell_type": "code",
   "execution_count": 21,
   "id": "4d6a7ee4-9b33-468d-af67-df451f8278c1",
   "metadata": {},
   "outputs": [],
   "source": [
    "import cv2\n",
    "\n",
    "src = 'Input Images/test1.jpg'\n",
    "image = cv2.imread(src)\n",
    "\n",
    "scale_percent = 0.6\n",
    "width = int(image.shape[1]*scale_percent)\n",
    "height = int(image.shape[0]*scale_percent)\n",
    "dims = (width,height)\n",
    "\n",
    "image = cv2.resize(image,dims)\n",
    "\n",
    "cv2.imwrite('Input Images/image_out.png',image)\n",
    "\n",
    "sobel_image3 = cv2.Sobel(image,cv2.CV_8U,1,0,ksize=3)\n",
    "cv2.imwrite('Input Images/Sobel_k3.png',sobel_image3)\n",
    "\n",
    "sobel_image5 = cv2.Sobel(image,cv2.CV_8U,1,0,ksize=5)\n",
    "cv2.imwrite('Input Images/Sobel_k5.png',sobel_image5)\n",
    "\n",
    "sobel_image7 = cv2.Sobel(image,cv2.CV_8U,1,0,ksize=7)\n",
    "cv2.imwrite('Input Images/Sobel_k7.png',sobel_image7)\n",
    "\n",
    "scharr_image3 = cv2.Scharr(image, cv2.CV_32F, 1,0)\n",
    "cv2.imwrite('Input Images/scharr.png',scharr_image3)\n",
    "\n",
    "cv2.imshow('image',image)\n",
    "cv2.waitKey(0)\n",
    "cv2.destroyAllWindows()"
   ]
  }
 ],
 "metadata": {
  "kernelspec": {
   "display_name": "Python 3 (ipykernel)",
   "language": "python",
   "name": "python3"
  },
  "language_info": {
   "codemirror_mode": {
    "name": "ipython",
    "version": 3
   },
   "file_extension": ".py",
   "mimetype": "text/x-python",
   "name": "python",
   "nbconvert_exporter": "python",
   "pygments_lexer": "ipython3",
   "version": "3.9.7"
  }
 },
 "nbformat": 4,
 "nbformat_minor": 5
}
